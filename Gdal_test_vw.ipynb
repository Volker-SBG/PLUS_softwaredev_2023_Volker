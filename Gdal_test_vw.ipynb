{
 "cells": [
  {
   "cell_type": "code",
   "execution_count": 1,
   "id": "692008fe",
   "metadata": {},
   "outputs": [],
   "source": [
    "%matplotlib inline\n",
    "\n",
    "import os\n",
    "import sys\n",
    "\n",
    "import numpy\n",
    "import matplotlib.pyplot as plt\n",
    "from osgeo import gdal\n"
   ]
  },
  {
   "cell_type": "code",
   "execution_count": 2,
   "id": "50f6fd6d",
   "metadata": {},
   "outputs": [
    {
     "name": "stdout",
     "output_type": "stream",
     "text": [
      "GDAL's version is: 3.4.0e\n"
     ]
    }
   ],
   "source": [
    "print(\"GDAL's version is: \" + gdal.__version__)\n"
   ]
  },
  {
   "cell_type": "code",
   "execution_count": 6,
   "id": "b0d3ddff",
   "metadata": {},
   "outputs": [
    {
     "name": "stdout",
     "output_type": "stream",
     "text": [
      "Driver: JPEG/JPEG JFIF\n",
      "Files: C:\\Users\\s1036528\\Pictures\\10000-qvRGB.jpg\n",
      "Size is 1681, 1080\n",
      "Image Structure Metadata:\n",
      "  COMPRESSION=JPEG\n",
      "  INTERLEAVE=PIXEL\n",
      "  SOURCE_COLOR_SPACE=YCbCr\n",
      "Corner Coordinates:\n",
      "Upper Left  (    0.0,    0.0)\n",
      "Lower Left  (    0.0, 1080.0)\n",
      "Upper Right ( 1681.0,    0.0)\n",
      "Lower Right ( 1681.0, 1080.0)\n",
      "Center      (  840.5,  540.0)\n",
      "Band 1 Block=1681x1 Type=Byte, ColorInterp=Red\n",
      "    Computed Min/Max=0.000,255.000\n",
      "  Minimum=0.000, Maximum=255.000, Mean=128.481, StdDev=64.436\n",
      "  Overviews: 841x540, 421x270, 211x135\n",
      "  Metadata:\n",
      "    STATISTICS_MAXIMUM=255\n",
      "    STATISTICS_MEAN=128.48075935841\n",
      "    STATISTICS_MINIMUM=0\n",
      "    STATISTICS_STDDEV=64.436205896596\n",
      "    STATISTICS_VALID_PERCENT=100\n",
      "  Image Structure Metadata:\n",
      "    COMPRESSION=JPEG\n",
      "Band 2 Block=1681x1 Type=Byte, ColorInterp=Green\n",
      "    Computed Min/Max=0.000,255.000\n",
      "  Minimum=0.000, Maximum=255.000, Mean=125.164, StdDev=56.518\n",
      "  Overviews: 841x540, 421x270, 211x135\n",
      "  Metadata:\n",
      "    STATISTICS_MAXIMUM=255\n",
      "    STATISTICS_MEAN=125.1635501355\n",
      "    STATISTICS_MINIMUM=0\n",
      "    STATISTICS_STDDEV=56.518165825344\n",
      "    STATISTICS_VALID_PERCENT=100\n",
      "  Image Structure Metadata:\n",
      "    COMPRESSION=JPEG\n",
      "Band 3 Block=1681x1 Type=Byte, ColorInterp=Blue\n",
      "    Computed Min/Max=0.000,255.000\n",
      "  Minimum=0.000, Maximum=255.000, Mean=104.867, StdDev=57.483\n",
      "  Overviews: 841x540, 421x270, 211x135\n",
      "  Metadata:\n",
      "    STATISTICS_MAXIMUM=255\n",
      "    STATISTICS_MEAN=104.86711448212\n",
      "    STATISTICS_MINIMUM=0\n",
      "    STATISTICS_STDDEV=57.482607004992\n",
      "    STATISTICS_VALID_PERCENT=100\n",
      "  Image Structure Metadata:\n",
      "    COMPRESSION=JPEG\n",
      "\n"
     ]
    }
   ],
   "source": [
    "info_options = gdal.InfoOptions(computeMinMax=True, stats=True)\n",
    "PicTif = \"C:\\\\Users\\\\s1036528\\\\Pictures\\\\10000-qvRGB.jpg\"\n",
    "print(gdal.Info(PicTif, options=info_options))"
   ]
  },
  {
   "cell_type": "code",
   "execution_count": 12,
   "id": "b8d4d048",
   "metadata": {},
   "outputs": [
    {
     "name": "stdout",
     "output_type": "stream",
     "text": [
      "[ NUMBER OF BANDS ] =  3\n"
     ]
    }
   ],
   "source": [
    "in_ds = gdal.Open(PicTif, gdal.GA_ReadOnly)\n",
    "\n",
    "# Find the number of bands in the dataset object.\n",
    "print(\"[ NUMBER OF BANDS ] = \", in_ds.RasterCount)"
   ]
  },
  {
   "cell_type": "code",
   "execution_count": 13,
   "id": "108da396",
   "metadata": {},
   "outputs": [
    {
     "name": "stdout",
     "output_type": "stream",
     "text": [
      "[ BAND DATA TYPE ] =  Byte\n",
      "[ NO DATA VALUE ] =  None\n"
     ]
    }
   ],
   "source": [
    "in_band = in_ds.GetRasterBand(1)\n",
    "\n",
    "print(\"[ BAND DATA TYPE ] = \", gdal.GetDataTypeName(in_band.DataType))\n",
    "print(\"[ NO DATA VALUE ] = \", in_band.GetNoDataValue())"
   ]
  },
  {
   "cell_type": "code",
   "execution_count": 14,
   "id": "451288f2",
   "metadata": {},
   "outputs": [
    {
     "name": "stdout",
     "output_type": "stream",
     "text": [
      "[ OVERALL STATS ] =  {'STATISTICS_MAXIMUM': '255', 'STATISTICS_MEAN': '128.48075935841', 'STATISTICS_MINIMUM': '0', 'STATISTICS_STDDEV': '64.436205896596', 'STATISTICS_VALID_PERCENT': '100'}\n"
     ]
    }
   ],
   "source": [
    "# Compute statistics if needed.\n",
    "if in_band.GetMinimum() is None or in_band.GetMaximum()is None:\n",
    "    in_band.ComputeStatistics(0)\n",
    "    print(\"Statistics computed.\")\n",
    "\n",
    "print(\"[ OVERALL STATS ] = \", in_band.GetMetadata())"
   ]
  },
  {
   "cell_type": "code",
   "execution_count": 10,
   "id": "b5d2f6cb",
   "metadata": {},
   "outputs": [
    {
     "name": "stdout",
     "output_type": "stream",
     "text": [
      "[ MIN ] =  0.0\n",
      "[ MAX ] =  255.0\n",
      "[ SCALE ] =  None\n"
     ]
    }
   ],
   "source": [
    "print(\"[ MIN ] = \", in_band.GetMinimum())\n",
    "print(\"[ MAX ] = \", in_band.GetMaximum())\n",
    "print(\"[ SCALE ] = \", in_band.GetScale())\n",
    "\n",
    "# Close everything.\n",
    "in_ds = None\n",
    "in_band = None\n"
   ]
  },
  {
   "cell_type": "code",
   "execution_count": 15,
   "id": "367f3af7",
   "metadata": {},
   "outputs": [
    {
     "ename": "NotADirectoryError",
     "evalue": "[WinError 267] Der Verzeichnisname ist ungültig: 'C:\\\\Users\\\\s1036528\\\\Pictures\\\\10000-qvRGB.jpg'",
     "output_type": "error",
     "traceback": [
      "\u001b[1;31m---------------------------------------------------------------------------\u001b[0m",
      "\u001b[1;31mNotADirectoryError\u001b[0m                        Traceback (most recent call last)",
      "\u001b[1;32m<ipython-input-15-6893a01e95c2>\u001b[0m in \u001b[0;36m<module>\u001b[1;34m\u001b[0m\n\u001b[0;32m      1\u001b[0m \u001b[1;31m# Check contents of Landsat 8 processed data folder.\u001b[0m\u001b[1;33m\u001b[0m\u001b[1;33m\u001b[0m\u001b[0m\n\u001b[1;32m----> 2\u001b[1;33m \u001b[0mprint\u001b[0m\u001b[1;33m(\u001b[0m\u001b[0mos\u001b[0m\u001b[1;33m.\u001b[0m\u001b[0mlistdir\u001b[0m\u001b[1;33m(\u001b[0m\u001b[0mPicTif\u001b[0m\u001b[1;33m)\u001b[0m\u001b[1;33m)\u001b[0m\u001b[1;33m\u001b[0m\u001b[1;33m\u001b[0m\u001b[0m\n\u001b[0m",
      "\u001b[1;31mNotADirectoryError\u001b[0m: [WinError 267] Der Verzeichnisname ist ungültig: 'C:\\\\Users\\\\s1036528\\\\Pictures\\\\10000-qvRGB.jpg'"
     ]
    }
   ],
   "source": [
    "# Check contents of Landsat 8 processed data folder.\n",
    "print(os.listdir(PicTif))"
   ]
  },
  {
   "cell_type": "code",
   "execution_count": null,
   "id": "ec6855cd",
   "metadata": {},
   "outputs": [],
   "source": []
  },
  {
   "cell_type": "code",
   "execution_count": null,
   "id": "b38499b8",
   "metadata": {},
   "outputs": [],
   "source": []
  }
 ],
 "metadata": {
  "kernelspec": {
   "display_name": "Python 3",
   "language": "python",
   "name": "python3"
  },
  "language_info": {
   "codemirror_mode": {
    "name": "ipython",
    "version": 3
   },
   "file_extension": ".py",
   "mimetype": "text/x-python",
   "name": "python",
   "nbconvert_exporter": "python",
   "pygments_lexer": "ipython3",
   "version": "3.9.11"
  }
 },
 "nbformat": 4,
 "nbformat_minor": 5
}
